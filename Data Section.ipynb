{
 "cells": [
  {
   "cell_type": "markdown",
   "id": "708d4567-99b3-4edb-9fe3-e189b2de8a18",
   "metadata": {},
   "source": [
    "#### 1.2 Source and Description of Data.\n"
   ]
  },
  {
   "cell_type": "markdown",
   "id": "7541c274-a466-4972-93d7-ce6330b6342d",
   "metadata": {},
   "source": [
    "Toronto city, a prominent city with available and reliable data sources of its neighbourhoods, will be used as a sample case study. Toronto city has 35 neighbourhood groups with distinct district numbers. The cost of housing index in each district will be used to establish the class of their respective neighbourhoods. From location dataset available, the distinct business venues and the frequency of visits will be extracted for each district.\n",
    "\n",
    "The cost of housing index of Toronto city will be extracted from Toronto Regional Real Estate Board as culled from Storey’s real estate site. The coordinates of the districts will be extract using geolocator on the geopy python library. The coordinates will be used apply for location data from Foursquare dataset API.\n",
    "\n",
    "The specific variables will be used as follows:\n",
    "\n",
    "Neighbourhood group – Toronto Neighbourhood Districts with their numbers\n",
    "\n",
    "District Location – Longitude and Latitudes of Districts\n",
    "\n",
    "Housing cost index – Median Detached House Prices of Districts\n",
    "\n",
    "Business types – Venues and locations visited as logged in Foursquare dataset.\n"
   ]
  },
  {
   "cell_type": "markdown",
   "id": "023a1e90-64d7-4876-a99f-7978f1a6c951",
   "metadata": {},
   "source": [
    "#### 1.3 Methodology"
   ]
  },
  {
   "cell_type": "markdown",
   "id": "f76345b6-7a16-479a-800b-f5335cece234",
   "metadata": {},
   "source": [
    "The aforementioned variables will be used to solve the problem of determining which types of business groups are mostly patronised by customers in high, middle, and low class neighbourhoods by applying the following steps.\n",
    "1.\tThe class categories is determining by applying descriptive statistics of the Housing cost index to obtain the high, middle, and low class neighbourhoods.\n",
    "2.\tThe location coordinates are used to extract the venues available for all the districts and most visited types of businesses are selected.\n",
    "3.\tThese most visited type of business are then clustered into groups of similar business types.\n",
    "4.\tThese business groups are then compared with the class category group\n",
    "5.\tConclusions are deduced from the comparisms and the most visited venues for each neighbourhood class is established. \n"
   ]
  },
  {
   "cell_type": "code",
   "execution_count": null,
   "id": "5546d223-2667-49a0-9391-e941b5b8c9f0",
   "metadata": {},
   "outputs": [],
   "source": []
  }
 ],
 "metadata": {
  "kernelspec": {
   "display_name": "Python",
   "language": "python",
   "name": "conda-env-python-py"
  },
  "language_info": {
   "codemirror_mode": {
    "name": "ipython",
    "version": 3
   },
   "file_extension": ".py",
   "mimetype": "text/x-python",
   "name": "python",
   "nbconvert_exporter": "python",
   "pygments_lexer": "ipython3",
   "version": "3.6.13"
  }
 },
 "nbformat": 4,
 "nbformat_minor": 5
}
