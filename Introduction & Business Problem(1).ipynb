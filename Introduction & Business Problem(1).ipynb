{
 "cells": [
  {
   "cell_type": "markdown",
   "id": "56cd5c15-aee0-4fd8-a5bb-a01220341016",
   "metadata": {},
   "source": [
    "# The Most Visited Businesses in the Different Neighbourhood Classes of Toronto City"
   ]
  },
  {
   "cell_type": "markdown",
   "id": "241a58fb-713d-4469-b841-ddb76a14affd",
   "metadata": {},
   "source": [
    "# 1.\tIntroduction\n",
    "\n",
    "Neighbourhoods in prominent cities are always seeking to attract foreign investors to their neighbourhoods. These investors are often faced with the challenge of determining which type of venture would be lucrative in a particular neighbourhood. Certain classes of neighbourhoods may have common factors that may distinguish their class to attract more of a particular type of service over other types. Class is often categorised by cost or expense of attaining. Hence certain types of businesses may attract more or less customers depending on how expensive or cheap the area is.\n",
    "\n",
    "Toronto city, a prominent city with available and reliable data sources of its neighbourhoods, will be used as a sample case study. Toronto city has 35 neighbourhood groups with distinct district numbers. The cost of housing index in each district will be used to establish the class of their respective neighbourhoods. From location dataset available, the distinct business venues and the frequency of visits will be extracted for each district.\n",
    "\n"
   ]
  },
  {
   "cell_type": "markdown",
   "id": "79dbfbe4-f4db-49cb-b406-fe67ae81c048",
   "metadata": {},
   "source": [
    "#### 1.1 Business Problem\n",
    "\n",
    "The problem is, a would-be investor needs to determine which types of business groups are mostly patronised by customers in high, middle, and low class neighbourhoods. This knowledge is critical to the potential investor, planning in consideration of his/her budget.\n",
    "\n",
    "The broad objective of this assignment is to establish if identified groups of most visited business clusters are able to define the class of the neighbourhood.\n",
    "\n",
    "The specific objectives includes identifying which types of businesses are most visited in high, middle and low class neighbourhoods.\n"
   ]
  },
  {
   "cell_type": "code",
   "execution_count": null,
   "id": "06a83504-decc-4f37-8519-9fa14b687ad6",
   "metadata": {},
   "outputs": [],
   "source": []
  }
 ],
 "metadata": {
  "kernelspec": {
   "display_name": "Python",
   "language": "python",
   "name": "conda-env-python-py"
  },
  "language_info": {
   "codemirror_mode": {
    "name": "ipython",
    "version": 3
   },
   "file_extension": ".py",
   "mimetype": "text/x-python",
   "name": "python",
   "nbconvert_exporter": "python",
   "pygments_lexer": "ipython3",
   "version": "3.6.13"
  }
 },
 "nbformat": 4,
 "nbformat_minor": 5
}
