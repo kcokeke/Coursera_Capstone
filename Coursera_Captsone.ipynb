{
 "cells": [
  {
   "cell_type": "markdown",
   "id": "005d7828-1423-4dd3-9f3d-090a84ef1044",
   "metadata": {},
   "source": [
    "### Applied Data Science Project"
   ]
  },
  {
   "cell_type": "markdown",
   "id": "57a01b8c-0333-4943-a722-a5eaf7f50a48",
   "metadata": {},
   "source": [
    "This notebook will be mainly used for the capstone project"
   ]
  },
  {
   "cell_type": "code",
   "execution_count": 1,
   "id": "583c151b-daa5-4387-9692-0682c46793f1",
   "metadata": {},
   "outputs": [],
   "source": [
    "import pandas as pd"
   ]
  },
  {
   "cell_type": "code",
   "execution_count": 2,
   "id": "4f19ff40-4b06-495e-8802-e4e4106bd34e",
   "metadata": {},
   "outputs": [],
   "source": [
    "import numpy as np"
   ]
  },
  {
   "cell_type": "code",
   "execution_count": 3,
   "id": "5ce39042-8ab2-4553-b974-ccf6fcebc28a",
   "metadata": {},
   "outputs": [
    {
     "name": "stdout",
     "output_type": "stream",
     "text": [
      "Hello Capstone Project Course!\n"
     ]
    }
   ],
   "source": [
    "print('Hello Capstone Project Course!')"
   ]
  },
  {
   "cell_type": "code",
   "execution_count": null,
   "id": "d215b349-5fb7-45f2-b735-736d63e2c2a9",
   "metadata": {},
   "outputs": [],
   "source": []
  }
 ],
 "metadata": {
  "kernelspec": {
   "display_name": "Python",
   "language": "python",
   "name": "conda-env-python-py"
  },
  "language_info": {
   "codemirror_mode": {
    "name": "ipython",
    "version": 3
   },
   "file_extension": ".py",
   "mimetype": "text/x-python",
   "name": "python",
   "nbconvert_exporter": "python",
   "pygments_lexer": "ipython3",
   "version": "3.6.13"
  }
 },
 "nbformat": 4,
 "nbformat_minor": 5
}
